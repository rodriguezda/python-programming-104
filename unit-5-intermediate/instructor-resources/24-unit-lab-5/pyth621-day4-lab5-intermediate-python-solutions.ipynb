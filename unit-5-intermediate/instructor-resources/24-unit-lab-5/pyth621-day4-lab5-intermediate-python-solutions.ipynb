{
 "cells": [
  {
   "cell_type": "markdown",
   "metadata": {},
   "source": [
    "### ![](https://ga-dash.s3.amazonaws.com/production/assets/logo-9f88ae6c9c3871690e33280fcf557f33.png)\n",
    "\n",
    "# Unit 5 Lab: Importing Libraries and Pandas\n",
    "\n",
    "## Overview\n",
    "\n",
    "Welcome to the Unit 5 lab!\n",
    "\n",
    "Now that we've learned a little about libraries, we can make some changes to our weather forecast application to make it more efficient and flexible.\n",
    "\n",
    "### Goals\n",
    "\n",
    "In this lab, you will:\n",
    "\n",
    "- Utilize external libraries to extend the functionality of our `Forecast` class.\n",
    "- Work with and manipulate datetime objects to provide more accurate weekly forecast data.\n",
    "\n",
    "---"
   ]
  },
  {
   "cell_type": "markdown",
   "metadata": {},
   "source": [
    "### Adding the `datetime` and `calendar` Libraries\n",
    "Let's apply the power of the `datetime` and `calendar` libraries to our application. Start by adding an import for the `datetime` library.\n",
    "\n",
    "To save the user from an unnecessary input, we're going to set the current year for them. \n",
    "\n",
    "- Create an instance variable named `forecast_year` inside the `__init__()` function and set the value to `datetime.datetime.now().year`.\n",
    "\n",
    "_Note: The `datetime.datetime.now()` method creates a `datetime` object for the current execution time. The result looks like `2019-06-13 18:48:30.733505`. Once we've created a `datetime` object, we can grab any attribute from it that we need, such as `.year`, `.month`, etc._\n",
    "\n",
    "- Add two more arguments to our `__init__()` method:\n",
    "  - `user_input_month`\n",
    "  - `user_input_day`\n",
    "  \n",
    "Create an instance variable, `forecast_date`, inside the `__init__()` method.\n",
    " \n",
    "Set it to a new `datetime` object using `self.forecast_year`, `user_input_month`, and `user_input_day`.\n",
    "\n",
    "_Hint: To create a `datetime` object, use `datetime.datetime(year,month,day)`._"
   ]
  },
  {
   "cell_type": "code",
   "execution_count": 1,
   "metadata": {
    "collapsed": true
   },
   "outputs": [],
   "source": [
    "import datetime\n",
    "\n",
    "one_day_of_hourly_temperatures = [67,67,68,69,71,73,75,76,79,81,81,80,82,81,81,80,78,75,72,70,67,65,66,66]\n",
    "one_day_of_hourly_humidity = [60,65,65,70,70,70,70,75,75,75,75,80,80,85,85,85,85,80,80,80,80,80,80,80]\n",
    "one_day_of_hourly_rainfall = [0,0,0,0.1,0.1,0.05,0.1,0.15,0.2,0.3,0.3,0.5,0,0,0,0,0,0,0,0,0,0,0,0]\n",
    "\n",
    "class Forecast():\n",
    "    \n",
    "    def __init__(self, location, user_input_month, user_input_day):\n",
    "        self.location = location\n",
    "        self.forecast_year = datetime.datetime.now().year\n",
    "        self.forecast_date = datetime.datetime(self.forecast_year, user_input_month, user_input_day)\n",
    "    \n",
    "    def __get_daily_high(self):\n",
    "        return max(one_day_of_hourly_temperatures)\n",
    "    \n",
    "    def __get_daily_low(self):\n",
    "        return min(one_day_of_hourly_temperatures)\n",
    "    \n",
    "    def __get_daily_chance_of_rain(self):\n",
    "        number_of_years_of_data = 10\n",
    "        times_it_has_rained = 0\n",
    "        \n",
    "        if sum(one_day_of_hourly_rainfall):\n",
    "            times_it_has_rained += 1\n",
    "            \n",
    "        return times_it_has_rained / number_of_years_of_data * 100\n",
    "    \n",
    "    def display_daily_forecast(self):\n",
    "        print(f\"The weather forecast for today in \"\n",
    "              f\"{self.location} is: High of {self.__get_daily_high()}\"\n",
    "              f\", Low of {self.__get_daily_low()}, with a \"\n",
    "              f\"{self.__get_daily_chance_of_rain()}% chance of rain.\")\n",
    "    \n",
    "    def display_weekly_forecast(self):\n",
    "        print(f'The week\\'s weather forecast for: \\\n",
    "            \\n   Monday:    High {self.__get_daily_high()}, Low {self.__get_daily_low()}, Rain {self.__get_daily_chance_of_rain()}%\\\n",
    "            \\n   Tuesday:   High {self.__get_daily_high()}, Low {self.__get_daily_low()}, Rain {self.__get_daily_chance_of_rain()}%\\\n",
    "            \\n   Wednesday: High {self.__get_daily_high()}, Low {self.__get_daily_low()}, Rain {self.__get_daily_chance_of_rain()}%\\\n",
    "            \\n   Thursday:  High {self.__get_daily_high()}, Low {self.__get_daily_low()}, Rain {self.__get_daily_chance_of_rain()}%\\\n",
    "            \\n   Friday:    High {self.__get_daily_high()}, Low {self.__get_daily_low()}, Rain {self.__get_daily_chance_of_rain()}%\\\n",
    "            \\n   Saturday:  High {self.__get_daily_high()}, Low {self.__get_daily_low()}, Rain {self.__get_daily_chance_of_rain()}%\\\n",
    "            \\n   Sunday:    High {self.__get_daily_high()}, Low {self.__get_daily_low()}, Rain {self.__get_daily_chance_of_rain()}%')\n",
    "        \n",
    "test = Forecast(\"Austin,TX\", 6,13)\n",
    "test.display_daily_forecast()"
   ]
  },
  {
   "cell_type": "markdown",
   "metadata": {},
   "source": [
    "### Update to Display the Daily Forecast\n",
    "\n",
    "Now it's time to display the dates.\n",
    "\n",
    "1. Add an import for the `calendar` library.\n",
    "2. Create a new _private_ method called `__get_day_of_week()`. _(Note: Because this method is only used within the class, it's prefixed by two underscores)._ This method will accept the integer arguments `month` and `day`. It will return a string such as `'Monday'` for any date we send it.\n",
    "\n",
    "_Hint: The `calendar.day_name`  property can be indexed to return string representation of the integer day of the week. For example, `calendar.day_name[0]` returns `'Monday'` and `calendar.day_name[6]` returns `'Sunday'`._\n",
    "\n",
    "_Hint: The `datetime.datetime.weekday()` method returns the integer of the given `datetime`. For example, `datetime.datetime(1985, 1, 22).weekday()` returns `1`, which is a Tuesday._\n",
    "\n",
    "3. Add the `__get_day_of_week()` result to your `display_daily_forecast()` method.\n",
    "4. Call this method with `self.forecast_date.month` and `self.forecast_date.day`.\n",
    "\n",
    "The output of calling `display_daily_forecast()` should look like this:\n",
    "  \n",
    "> The weather forecast for Tuesday 12/31 in Austin, TX is: High of 82, Low of 65, with a 10.0% chance of rain."
   ]
  },
  {
   "cell_type": "code",
   "execution_count": 2,
   "metadata": {
    "collapsed": true
   },
   "outputs": [],
   "source": [
    "import datetime\n",
    "import calendar\n",
    "\n",
    "one_day_of_hourly_temperatures = [67,67,68,69,71,73,75,76,79,81,81,80,82,81,81,80,78,75,72,70,67,65,66,66]\n",
    "one_day_of_hourly_humidity = [60,65,65,70,70,70,70,75,75,75,75,80,80,85,85,85,85,80,80,80,80,80,80,80]\n",
    "one_day_of_hourly_rainfall = [0,0,0,0.1,0.1,0.05,0.1,0.15,0.2,0.3,0.3,0.5,0,0,0,0,0,0,0,0,0,0,0,0]\n",
    "\n",
    "class Forecast():\n",
    "    \n",
    "    def __init__(self, location, user_input_month, user_input_day):\n",
    "        self.location = location\n",
    "        self.forecast_year = datetime.datetime.now().year\n",
    "        self.forecast_date = datetime.datetime(self.forecast_year, user_input_month, user_input_day)\n",
    "    \n",
    "    def __get_day_of_week(self, month, day):\n",
    "        return calendar.day_name[datetime.datetime(self.forecast_year, month, day).weekday()]\n",
    "    \n",
    "    def __get_daily_high(self):\n",
    "        return max(one_day_of_hourly_temperatures)\n",
    "    \n",
    "    def __get_daily_low(self):\n",
    "        return min(one_day_of_hourly_temperatures)\n",
    "    \n",
    "    def __get_daily_chance_of_rain(self):\n",
    "        number_of_years_of_data = 10\n",
    "        times_it_has_rained = 0\n",
    "        \n",
    "        if sum(one_day_of_hourly_rainfall):\n",
    "            times_it_has_rained += 1\n",
    "            \n",
    "        return times_it_has_rained / number_of_years_of_data * 100\n",
    "    \n",
    "    def display_daily_forecast(self):\n",
    "        day_of_week = self.__get_day_of_week(self.forecast_date.month, self.forecast_date.day)\n",
    "        print(f\"The weather forecast for {day_of_week} \"\n",
    "              f\"{self.forecast_date.month}/{self.forecast_date.day}\"\n",
    "              f\" in {self.location} is:\"\n",
    "              f\"High of {self.__get_daily_high()}, Low of {self.__get_daily_low()}\"\n",
    "              f\", with a {self.__get_daily_chance_of_rain()}% chance of rain.\")\n",
    "    \n",
    "    def display_weekly_forecast(self):\n",
    "        print(f'The week\\'s weather forecast for: \\\n",
    "            \\n   Monday:    High {self.__get_daily_high()}, Low {self.__get_daily_low()}, Rain {self.__get_daily_chance_of_rain()}%\\\n",
    "            \\n   Tuesday:   High {self.__get_daily_high()}, Low {self.__get_daily_low()}, Rain {self.__get_daily_chance_of_rain()}%\\\n",
    "            \\n   Wednesday: High {self.__get_daily_high()}, Low {self.__get_daily_low()}, Rain {self.__get_daily_chance_of_rain()}%\\\n",
    "            \\n   Thursday:  High {self.__get_daily_high()}, Low {self.__get_daily_low()}, Rain {self.__get_daily_chance_of_rain()}%\\\n",
    "            \\n   Friday:    High {self.__get_daily_high()}, Low {self.__get_daily_low()}, Rain {self.__get_daily_chance_of_rain()}%\\\n",
    "            \\n   Saturday:  High {self.__get_daily_high()}, Low {self.__get_daily_low()}, Rain {self.__get_daily_chance_of_rain()}%\\\n",
    "            \\n   Sunday:    High {self.__get_daily_high()}, Low {self.__get_daily_low()}, Rain {self.__get_daily_chance_of_rain()}%')\n",
    "        \n",
    "test = Forecast(\"Austin,TX\",12,31)\n",
    "test.display_daily_forecast()"
   ]
  },
  {
   "cell_type": "markdown",
   "metadata": {},
   "source": [
    "### Update to Display the Weekly Forecast\n",
    "\n",
    "- Update the `display_weekly_forecast()` function by reading out the forecast with each day of the forecast listed in both words and numbers. You'll do this with the `datetime.timedelta()` function. Here's an example:\n",
    "\n",
    "```python\n",
    "if current_date = datetime.datetime.now()\n",
    "    tomorrows_date = current_date + datetime.timedelta(day=1)\n",
    "    two_days_from_current_date = current_date + datetime.timedelta(day=2)\n",
    "    three_days_from_current_date = current_date + datetime.timedelta(day=3)\n",
    "    ...\n",
    "```\n",
    "\n",
    "_Hint: Use an iterator to print out all of these unique statements._\n",
    "\n",
    "\n",
    "- The output of `display_weekly_forecast()` should look like:\n",
    "```\n",
    "The week's weather forecast for:\n",
    "    Tuesday, 12/31: High 82, Low 65, Rain 10.0%\n",
    "    Wednesday, 1/1: High 82, Low 65, Rain 10.0%\n",
    "    Thursday, 1/2: High 82, Low 65, Rain 10.0%\n",
    "    Friday, 1/3: High 82, Low 65, Rain 10.0%\n",
    "    Saturday, 1/4: High 82, Low 65, Rain 10.0%\n",
    "    Sunday, 1/5: High 82, Low 65, Rain 10.0%\n",
    "    Monday, 1/6: High 82, Low 65, Rain 10.0%\n",
    "```"
   ]
  },
  {
   "cell_type": "code",
   "execution_count": 2,
   "metadata": {
    "collapsed": false,
    "scrolled": true
   },
   "outputs": [
    {
     "name": "stdout",
     "output_type": "stream",
     "text": [
      "The week's weather forecast for:\n",
      "   Tuesday,12/31: High 82, Low 65, Rain 10.0%\n",
      "   Wednesday,1/1: High 82, Low 65, Rain 10.0%\n",
      "   Thursday,1/2: High 82, Low 65, Rain 10.0%\n",
      "   Friday,1/3: High 82, Low 65, Rain 10.0%\n",
      "   Saturday,1/4: High 82, Low 65, Rain 10.0%\n",
      "   Sunday,1/5: High 82, Low 65, Rain 10.0%\n",
      "   Monday,1/6: High 82, Low 65, Rain 10.0%\n"
     ]
    }
   ],
   "source": [
    "import datetime\n",
    "import calendar\n",
    "\n",
    "one_day_of_hourly_temperatures = [67,67,68,69,71,73,75,76,79,81,81,80,82,81,81,80,78,75,72,70,67,65,66,66]\n",
    "one_day_of_hourly_humidity = [60,65,65,70,70,70,70,75,75,75,75,80,80,85,85,85,85,80,80,80,80,80,80,80]\n",
    "one_day_of_hourly_rainfall = [0,0,0,0.1,0.1,0.05,0.1,0.15,0.2,0.3,0.3,0.5,0,0,0,0,0,0,0,0,0,0,0,0]\n",
    "\n",
    "class Forecast():\n",
    "    \n",
    "    def __init__(self, location, user_input_month, user_input_day):\n",
    "        self.location = location\n",
    "        self.forecast_year = datetime.datetime.now().year\n",
    "        self.forecast_date = datetime.datetime(self.forecast_year,user_input_month,user_input_day)\n",
    "    \n",
    "    def __get_day_of_week(self, date):\n",
    "        return calendar.day_name[date.weekday()]\n",
    "    \n",
    "    def __get_daily_high(self):\n",
    "        return max(one_day_of_hourly_temperatures)\n",
    "    \n",
    "    def __get_daily_low(self):\n",
    "        return min(one_day_of_hourly_temperatures)\n",
    "    \n",
    "    def __get_daily_chance_of_rain(self):\n",
    "        number_of_years_of_data = 10\n",
    "        times_it_has_rained = 0\n",
    "        \n",
    "        if sum(one_day_of_hourly_rainfall):\n",
    "            times_it_has_rained += 1\n",
    "            \n",
    "        return times_it_has_rained / number_of_years_of_data * 100\n",
    "    \n",
    "    def display_daily_forecast(self):\n",
    "        day_of_week = self.__get_day_of_week(self.forecast_date)\n",
    "        print(f\"The weather forecast for {day_of_week} \"\n",
    "              f\"{self.forecast_date.month}/{self.forecast_date.day}\"\n",
    "              f\" in {self.location} is: High of \"\n",
    "              f\"{self.__get_daily_high()}, Low of {self.__get_daily_low()}\"\n",
    "              f\", with a {self.__get_daily_chance_of_rain()}% chance of rain.\")\n",
    "    \n",
    "    def display_weekly_forecast(self):\n",
    "        print(\"The week\\'s weather forecast for:\")\n",
    "              \n",
    "        for i in range(7):\n",
    "            current_date = self.forecast_date + datetime.timedelta(days=i)\n",
    "            print(f\"   {self.__get_day_of_week(current_date)},\"\n",
    "                  f\"{current_date.month}/{current_date.day}: \"\n",
    "                  f\"High {self.__get_daily_high()}, Low {self.__get_daily_low()},\"\n",
    "                  f\" Rain {self.__get_daily_chance_of_rain()}%\")\n",
    "\n",
    "test = Forecast(\"Austin,TX\",12,31)\n",
    "test.display_weekly_forecast()"
   ]
  },
  {
   "cell_type": "markdown",
   "metadata": {},
   "source": [
    "### Adding Real Weather Data\n",
    "\n",
    "- Import the Pandas library.\n",
    "- Read in the following four columns from the `raw_weather_data.csv` file, located in `./data`. Place the resulting DataFrame into a variable named `hourly_weather_data`.\n",
    "  - `DATE`\n",
    "  - `REPORT_TYPE`\n",
    "  - `HourlyDryBulbTemperature`\n",
    "  - `HourlyPrecipitation`\n",
    "- Print the shape of the DataFrame.\n",
    "- Print the first 10 rows of the DataFrame."
   ]
  },
  {
   "cell_type": "code",
   "execution_count": 4,
   "metadata": {
    "collapsed": false
   },
   "outputs": [
    {
     "name": "stdout",
     "output_type": "stream",
     "text": [
      "(128130, 4)\n",
      "                  DATE REPORT_TYPE HourlyDryBulbTemperature  \\\n",
      "0  2009-01-01T00:00:00       FM-12                       47   \n",
      "1  2009-01-01T00:53:00       FM-15                       37   \n",
      "2  2009-01-01T01:53:00       FM-15                       35   \n",
      "3  2009-01-01T02:53:00       FM-15                       33   \n",
      "4  2009-01-01T03:53:00       FM-15                       36   \n",
      "5  2009-01-01T04:53:00       FM-15                       35   \n",
      "6  2009-01-01T05:53:00       FM-15                       33   \n",
      "7  2009-01-01T06:00:00       FM-12                       39   \n",
      "8  2009-01-01T06:53:00       FM-15                       32   \n",
      "9  2009-01-01T07:53:00       FM-15                       32   \n",
      "\n",
      "  HourlyPrecipitation  \n",
      "0                 NaN  \n",
      "1                0.00  \n",
      "2                0.00  \n",
      "3                0.00  \n",
      "4                0.00  \n",
      "5                0.00  \n",
      "6                0.00  \n",
      "7                 NaN  \n",
      "8                0.00  \n",
      "9                0.00  \n"
     ]
    }
   ],
   "source": [
    "import pandas as pd\n",
    "\n",
    "hourly_weather_data = pd.read_csv(\n",
    "    './data/raw_weather_data.csv', \n",
    "    usecols=['DATE','REPORT_TYPE',\n",
    "             'HourlyDryBulbTemperature',\n",
    "             'HourlyPrecipitation'],\n",
    "    low_memory=False\n",
    ")\n",
    "\n",
    "print(hourly_weather_data.shape)\n",
    "print(hourly_weather_data.head(10))\n"
   ]
  },
  {
   "cell_type": "markdown",
   "metadata": {},
   "source": [
    "### Observing Data Types\n",
    "\n",
    "- Print the `dtypes` attribute of the DataFrame.\n",
    "- How is our `DATE` column being stored?"
   ]
  },
  {
   "cell_type": "code",
   "execution_count": 5,
   "metadata": {
    "collapsed": false
   },
   "outputs": [
    {
     "name": "stdout",
     "output_type": "stream",
     "text": [
      "DATE                        object\n",
      "REPORT_TYPE                 object\n",
      "HourlyDryBulbTemperature    object\n",
      "HourlyPrecipitation         object\n",
      "dtype: object\n"
     ]
    }
   ],
   "source": [
    "print(hourly_weather_data.dtypes)"
   ]
  },
  {
   "cell_type": "markdown",
   "metadata": {},
   "source": [
    "### Parsing Dates\n",
    "\n",
    "Our `DATE` column was brought in as an object (string) type because Pandas doesn't know how to interpret a cell filled with numbers and strings, so it defaults to the more general string type. \n",
    "\n",
    "In Lab 6, we'll need to be able to regroup our data based on different time intervals. To do this, we need to convert all of the dates in the `DATE` column (string/object type) into `datetime` objects. \n",
    "\n",
    "We can accomplish this by adding the `parse_dates=[\"DATE\"]` parameter to our `pd.read_csv()` function.\n",
    "\n",
    "- Run the `pd.read_csv()` function again with the added `parse_dates` parameter. \n",
    "- Print out the `dataframe.dtypes` and inspect the result. Is it different?\n",
    "- Print out the first 10 rows of the DataFrame again."
   ]
  },
  {
   "cell_type": "code",
   "execution_count": 6,
   "metadata": {
    "collapsed": false
   },
   "outputs": [
    {
     "name": "stdout",
     "output_type": "stream",
     "text": [
      "DATE                        datetime64[ns]\n",
      "REPORT_TYPE                         object\n",
      "HourlyDryBulbTemperature            object\n",
      "HourlyPrecipitation                 object\n",
      "dtype: object\n",
      "                 DATE REPORT_TYPE HourlyDryBulbTemperature HourlyPrecipitation\n",
      "0 2009-01-01 00:00:00       FM-12                       47                 NaN\n",
      "1 2009-01-01 00:53:00       FM-15                       37                0.00\n",
      "2 2009-01-01 01:53:00       FM-15                       35                0.00\n",
      "3 2009-01-01 02:53:00       FM-15                       33                0.00\n",
      "4 2009-01-01 03:53:00       FM-15                       36                0.00\n",
      "5 2009-01-01 04:53:00       FM-15                       35                0.00\n",
      "6 2009-01-01 05:53:00       FM-15                       33                0.00\n",
      "7 2009-01-01 06:00:00       FM-12                       39                 NaN\n",
      "8 2009-01-01 06:53:00       FM-15                       32                0.00\n",
      "9 2009-01-01 07:53:00       FM-15                       32                0.00\n"
     ]
    }
   ],
   "source": [
    "hourly_weather_data = pd.read_csv(\n",
    "    './data/raw_weather_data.csv', \n",
    "    usecols=['DATE','REPORT_TYPE',\n",
    "             'HourlyDryBulbTemperature',\n",
    "             'HourlyPrecipitation'],\n",
    "    parse_dates=['DATE'],\n",
    "    low_memory=False\n",
    ")\n",
    "\n",
    "print(hourly_weather_data.dtypes)\n",
    "print(hourly_weather_data.head(10))"
   ]
  },
  {
   "cell_type": "markdown",
   "metadata": {},
   "source": [
    "- Notice that the data type for the `DATE` column is now listed as `datetime64[ns]` instead of just `object` (string).\n",
    "- Notice that all of the dates in the `DATE` column of our DataFrame have been formatted with a space between the date and time."
   ]
  },
  {
   "cell_type": "markdown",
   "metadata": {},
   "source": [
    "### Setting Our Index\n",
    "\n",
    "Now we need to tell Pandas that we want to index all of our data by the `DATE` column rather than by the row number. We can also do this in our `pd.read_csv()` function by adding another parameter, `index_col=\"DATE\"`.\n",
    "\n",
    "- Run the `pd.read_csv()` function again with both the added `parse_dates=[\"DATE\"]` and `index_col=\"DATE\"` parameters. \n",
    "- Print out the first 10 rows of the DataFrame."
   ]
  },
  {
   "cell_type": "code",
   "execution_count": 7,
   "metadata": {
    "collapsed": false
   },
   "outputs": [
    {
     "name": "stdout",
     "output_type": "stream",
     "text": [
      "                    REPORT_TYPE HourlyDryBulbTemperature HourlyPrecipitation\n",
      "DATE                                                                        \n",
      "2009-01-01 00:00:00       FM-12                       47                 NaN\n",
      "2009-01-01 00:53:00       FM-15                       37                0.00\n",
      "2009-01-01 01:53:00       FM-15                       35                0.00\n",
      "2009-01-01 02:53:00       FM-15                       33                0.00\n",
      "2009-01-01 03:53:00       FM-15                       36                0.00\n",
      "2009-01-01 04:53:00       FM-15                       35                0.00\n",
      "2009-01-01 05:53:00       FM-15                       33                0.00\n",
      "2009-01-01 06:00:00       FM-12                       39                 NaN\n",
      "2009-01-01 06:53:00       FM-15                       32                0.00\n",
      "2009-01-01 07:53:00       FM-15                       32                0.00\n"
     ]
    }
   ],
   "source": [
    "hourly_weather_data = pd.read_csv(\n",
    "    './data/raw_weather_data.csv', \n",
    "    usecols=['DATE','REPORT_TYPE',\n",
    "             'HourlyDryBulbTemperature',\n",
    "             'HourlyPrecipitation'],\n",
    "    parse_dates=['DATE'],\n",
    "    index_col='DATE',\n",
    "    low_memory=False\n",
    ")\n",
    "\n",
    "print(hourly_weather_data.head(10))"
   ]
  },
  {
   "cell_type": "markdown",
   "metadata": {},
   "source": [
    "\n",
    "Notice that there is no longer a numerical row index. This is because Pandas is now using our `datetime` objects as the index. This allows us to use more advanced slicing functionality based on our date, along with `datetime` JOINs to other DataFrames."
   ]
  }
 ],
 "metadata": {
  "kernelspec": {
   "display_name": "Python 2",
   "language": "python",
   "name": "python2"
  },
  "language_info": {
   "codemirror_mode": {
    "name": "ipython",
    "version": 2
   },
   "file_extension": ".py",
   "mimetype": "text/x-python",
   "name": "python",
   "nbconvert_exporter": "python",
   "pygments_lexer": "ipython2",
   "version": "2.7.13"
  }
 },
 "nbformat": 4,
 "nbformat_minor": 2
}
