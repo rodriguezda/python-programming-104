{
 "cells": [
  {
   "cell_type": "markdown",
   "id": "d34d1297",
   "metadata": {},
   "source": [
    "### ![](https://ga-dash.s3.amazonaws.com/production/assets/logo-9f88ae6c9c3871690e33280fcf557f33.png) Python Programming\n",
    "\n",
    "<!---\n",
    "This assignment was developed by Brandi\n",
    "\n",
    "Questions? Comments?\n",
    "1. Log an issue to this repo to alert me of a problem.\n",
    "2. Suggest an edit yourself by forking this repo, making edits, and submitting a pull request with your changes back to our master branch.\n",
    "3. Hit me up on Slack at @brandib.\n",
    "--->\n",
    "\n",
    "# Advanced Python: Practice Problems\n",
    "\n",
    "In this homework, you're going to write code for a few problems. Like before, we'll be practicing new material, but you may need to break out your skills from previous units.\n",
    "\n",
    "You will practice these programming concepts we've covered in class:\n",
    "* Using `itertools` and `random` functions.\n",
    "* Type conversion and more advanced variable usage.\n",
    "* Calling an API to get data using `requests`.\n",
    "* Debugging code that doesn't work using `print` statements.\n",
    "* Scripting and file I/O.\n",
    "* Using list comprehensions to simplify list creation.\n",
    "\n",
    "------------\n",
    "\n",
    "## Deliverables\n",
    "\n",
    "For each of the challenges listed below, you will create a new `.py` file and write code to solve the problem. For example, you would create `problem1.py` with your solution code to the first problem. Run the file from the command line to check your work.\n",
    "\n",
    "*Reminder: On your laptop, you can run the file from your command line with the following:*"
   ]
  },
  {
   "cell_type": "code",
   "execution_count": null,
   "id": "04032f6d",
   "metadata": {},
   "outputs": [],
   "source": [
    "python problem1.py"
   ]
  },
  {
   "cell_type": "markdown",
   "id": "24604b4e",
   "metadata": {},
   "source": [
    "> **Hint:** Make sure you are printing something out with the `print` statement. Otherwise, you won't see any output from running your program!\n",
    "\n",
    "\n",
    "## Requirements:\n",
    "\n",
    "* By the end of this, you should have five different `.py` files (one for each problem).\n",
    "\n",
    "------------\n",
    "\n",
    "## Problem 1:\n",
    "\n",
    "### Skills you're practicing: Generating random numbers and type conversion.\n",
    "\n",
    "Make your own version of the `Guess a Number` game. Generate a random integer and store it in a variable called `answer`. Print a statement asking the user to guess a number.\n",
    "\n",
    "If the user's guess is:\n",
    "* Higher than the `answer`: print `That is too high!`.\n",
    "* Lower than the `answer`: print `That is too low!`.\n",
    "* Exactly the `answer`: print `That's it! You win!`.\n",
    "\n",
    "Your program should keep prompting the user until they enter the correct answer.\n",
    "\n",
    "#### Example Output"
   ]
  },
  {
   "cell_type": "code",
   "execution_count": null,
   "id": "5f1e40b0",
   "metadata": {},
   "outputs": [],
   "source": [
    "I'm thinking of a number between 1 and 10.\n",
    "Please guess what it is:\n",
    "> 4\n",
    "That is too low!\n",
    "> 8\n",
    "That is too high!\n",
    "> 6\n",
    "That's it! You win!"
   ]
  },
  {
   "cell_type": "markdown",
   "id": "3aedc9fd",
   "metadata": {},
   "source": [
    "> **Hint 1:** User input comes to you as a string. How can you make it into an integer so you can properly compare the user's guess with the `answer` (which is an integer)?\n",
    "> **Hint 2:** You can set a variable to `False` or `True`.\n",
    "\n",
    "------------\n",
    "\n",
    "## Problem 2: D'oh!\n",
    "\n",
    "### Skills you're practicing: Using `try`/`except` statements and error handling.\n",
    "\n",
    "Bart Simpson has gotten ahold of your program from Problem 1 and started entering a bunch of values that are NOT numbers! How do you handle it?\n",
    "\n",
    "Create a new file with your code from Problem 1 and modify it to print `D'oh! That is NOT a number, Bart!` if the user doesn't enter an integer.\n",
    "\n",
    "#### Example Output"
   ]
  },
  {
   "cell_type": "code",
   "execution_count": null,
   "id": "c96686a9",
   "metadata": {},
   "outputs": [],
   "source": [
    "I'm thinking of a number between 1 and 10.\n",
    "Please guess what it is:\n",
    "> Eat my shorts!\n",
    "D'oh! That is NOT a number, Bart!\n",
    "Please guess what it is:\n",
    "> Ay, caramba!\n",
    "D'oh! That is NOT a number, Bart!\n",
    "Please guess what it is:\n",
    "> 5\n",
    "That is too low!\n",
    "Please guess what it is:\n",
    "> 8\n",
    "That's it! You win!"
   ]
  },
  {
   "cell_type": "markdown",
   "id": "d4c5bd88",
   "metadata": {},
   "source": [
    "> **Hint:** The `continue` keyword can be called in a loop and means \"skip the rest of this loop iteration.\" It may be useful to call this in an `except` clause.\n",
    "------------\n",
    "\n",
    "## Problem 3:\n",
    "\n",
    "### Skill you're practicing: Debugging built-in errors.\n",
    "\n",
    "Copy the code out of the repl.it below into your file and fix the errors in the code. Don't change the `rainbow`'s contents.\n",
    "\n",
    "<iframe height=\"400px\" width=\"100%\" src=\"https://repl.it/@GAcoding/python-programming-eod-hw-3?lite=true\" scrolling=\"no\" frameborder=\"no\" allowtransparency=\"true\" allowfullscreen=\"true\" sandbox=\"allow-forms allow-pointer-lock allow-popups allow-same-origin allow-scripts allow-modals\"></iframe>\n",
    "\n",
    "#### Expected Output"
   ]
  },
  {
   "cell_type": "code",
   "execution_count": null,
   "id": "c9c8f7b7",
   "metadata": {},
   "outputs": [],
   "source": [
    "The rainbow's name is Roy G. Biv\n",
    "I'll be taking that gold!\n",
    "red\n",
    "orange\n",
    "yellow\n",
    "green\n",
    "blue\n",
    "What color is indigo?\n",
    "violet\n",
    "102\n",
    "100.0"
   ]
  },
  {
   "cell_type": "markdown",
   "id": "b29ea30b",
   "metadata": {},
   "source": [
    "> **Hint:** You may encounter: `NameError`, `SyntaxError`, `IndentationError`, `KeyError`, `TypeError`, etc. Refer to the class notes for common causes of these errors.\n",
    "\n",
    "------------\n",
    "\n",
    "## Problem 4: Three Commas\n",
    "\n",
    "### Skill you're practicing: Formatting numbers.\n",
    "\n",
    "Russ is a billionaire and he'd like to count his wealth in the number of commas it contains. For example, someone who is a millionaire would have only two commas (1,000,000). Russ, however, has three commas and would like to see those commas displayed. Help Russ format his integer so that commas appear when it is printed out. Make sure your program will work for any value of `wealth`.\n",
    "\n",
    "#### Example Code"
   ]
  },
  {
   "cell_type": "code",
   "execution_count": null,
   "id": "63accf66",
   "metadata": {},
   "outputs": [],
   "source": [
    "wealth = 1000000000"
   ]
  },
  {
   "cell_type": "markdown",
   "id": "8af1135d",
   "metadata": {},
   "source": [
    "#### Example Output"
   ]
  },
  {
   "cell_type": "code",
   "execution_count": null,
   "id": "61be435a",
   "metadata": {},
   "outputs": [],
   "source": [
    "1,000,000,000"
   ]
  },
  {
   "cell_type": "markdown",
   "id": "3aec6087",
   "metadata": {},
   "source": [
    "> **Hint:** Look up `format` if you've forgotten how to use it!\n",
    "\n",
    "------------\n",
    "\n",
    "## Problem 5: My Favorite TV Characters\n",
    "\n",
    "### Skills you're practicing: Scripting and debugging.\n",
    "\n",
    "I'm trying to write a list of favorite TV show characters to a file called `my_characters`. I'm nearly there, but instead of printing the whole list, I'm just getting the last line. Help me out: Can you get the whole list to print to a file?\n",
    "\n",
    "#### My Code\n",
    "\n",
    "<iframe height=\"400px\" width=\"100%\" src=\"https://repl.it/@GAcoding/python-programming-hw-eod-3-prob-5?lite=true\" scrolling=\"no\" frameborder=\"no\" allowtransparency=\"true\" allowfullscreen=\"true\" sandbox=\"allow-forms allow-pointer-lock allow-popups allow-same-origin allow-scripts allow-modals\"></iframe>\n",
    "\n",
    "\n",
    "#### Desired Output"
   ]
  },
  {
   "cell_type": "code",
   "execution_count": null,
   "id": "1f380723",
   "metadata": {},
   "outputs": [],
   "source": [
    "1: Will Byers\n",
    "2: Tyrion Lannister\n",
    "3: Oliver Queen\n",
    "4: Jean-Luc Picard\n",
    "5: Malcolm Reynolds\n",
    "6: The Doctor\n",
    "7: Sam Winchester\n",
    "8: Sherlock Holmes"
   ]
  },
  {
   "cell_type": "markdown",
   "id": "545f2304",
   "metadata": {},
   "source": [
    "#### Actual Output"
   ]
  },
  {
   "cell_type": "code",
   "execution_count": null,
   "id": "f774db3a",
   "metadata": {},
   "outputs": [],
   "source": [
    "8: Sherlock Holmes"
   ]
  },
  {
   "cell_type": "markdown",
   "id": "3eece460",
   "metadata": {},
   "source": [
    "> **Hint:** Remember the [spreadsheet](https://www.dropbox.com/s/cqsxfws52gulkyx/drawing.pdf) we looked at earlier? See if it can help!\n",
    "\n",
    "------------\n",
    "\n",
    "## Last, But Not Least\n",
    "\n",
    "You're all done! Wow! Time for a well-earned break!\n",
    "\n",
    "![](https://media.giphy.com/media/SJsuD0XD2zNug/giphy.gif)"
   ]
  }
 ],
 "metadata": {},
 "nbformat": 4,
 "nbformat_minor": 5
}
