{
 "cells": [
  {
   "cell_type": "markdown",
   "metadata": {},
   "source": [
    "### ![](https://ga-dash.s3.amazonaws.com/production/assets/logo-9f88ae6c9c3871690e33280fcf557f33.png)\n",
    "\n",
    "# Unit 1 Lab: Variables\n",
    "\n",
    "## Overview\n",
    "Welcome to the first unit lab!\n",
    "\n",
    "- At the end of each course unit, you'll complete a lab. \n",
    "- Each lab builds upon its predecessor.\n",
    "- Over the course of these six labs, we'll build a weather forecasting application. \n",
    "  - This application will read in historical weather data, process that data, and make a current weather forecast based on the date a user enters.\n",
    "\n",
    "### Goal \n",
    "\n",
    "Your goal for this lab is to write some variables, declare their values, and print them out. \n"
   ]
  },
  {
   "cell_type": "markdown",
   "metadata": {},
   "source": [
    "<hr>"
   ]
  },
  {
   "cell_type": "markdown",
   "metadata": {},
   "source": [
    "### Strings"
   ]
  },
  {
   "cell_type": "markdown",
   "metadata": {},
   "source": [
    "- Define a variable, `project_title`.\n",
    "  - Set the value as equal to `\"Weather Forecast Application\"`.\n",
    "  - Print the variable."
   ]
  },
  {
   "cell_type": "code",
   "execution_count": null,
   "metadata": {
    "collapsed": true
   },
   "outputs": [],
   "source": [
    "# Enter your code below:\n"
   ]
  },
  {
   "cell_type": "markdown",
   "metadata": {},
   "source": [
    "- Assign a new string value to your `project_title` variable and print the new value."
   ]
  },
  {
   "cell_type": "code",
   "execution_count": null,
   "metadata": {
    "collapsed": true
   },
   "outputs": [],
   "source": [
    "# Enter your code below:\n"
   ]
  },
  {
   "cell_type": "markdown",
   "metadata": {},
   "source": [
    "- Create a new variable, `message`.\n",
    "- Set the value of `message` as equal to the string `\"Your weather forecast\"`.\n",
    "- Print the `message` variable."
   ]
  },
  {
   "cell_type": "code",
   "execution_count": null,
   "metadata": {
    "collapsed": true
   },
   "outputs": [],
   "source": [
    "# Enter your code below:\n"
   ]
  },
  {
   "cell_type": "markdown",
   "metadata": {},
   "source": [
    "- Create a new variable called `day_of_week`. Assign it the string value `for today is: `.\n",
    "  \n",
    "- Create a new variable called `message_to_user`.\n",
    "  - Set its value to the concatenated string of `message` and `day_of_week`.\n",
    "\n",
    "- Then, print the result of `message_to_user`."
   ]
  },
  {
   "cell_type": "code",
   "execution_count": null,
   "metadata": {
    "collapsed": true
   },
   "outputs": [],
   "source": [
    "# Enter your code below:\n"
   ]
  },
  {
   "cell_type": "markdown",
   "metadata": {},
   "source": [
    "Next, we want to print the following statement:\n",
    "\n",
    "> Your weather forecast for today is: Partly cloudy with a chance of thunderstorms.\n",
    "\n",
    "- Create a new variable, `todays_forecast`.\n",
    "  - Set this variable to `\"Partly cloudy with a chance of thunderstorms\"`.\n",
    "  - Print the variables `message_to_user` and `todays_forecast`."
   ]
  },
  {
   "cell_type": "code",
   "execution_count": null,
   "metadata": {
    "collapsed": true,
    "scrolled": true
   },
   "outputs": [],
   "source": [
    "# Enter your code below:\n"
   ]
  },
  {
   "cell_type": "markdown",
   "metadata": {},
   "source": [
    "<hr>"
   ]
  },
  {
   "cell_type": "markdown",
   "metadata": {},
   "source": [
    "### Numbers\n",
    "\n",
    "Now, set a new variable, `ten_year_avg_daily_highs`, as equal to a value of `68`."
   ]
  },
  {
   "cell_type": "code",
   "execution_count": null,
   "metadata": {
    "collapsed": true
   },
   "outputs": [],
   "source": [
    "# Enter your code below:\n"
   ]
  },
  {
   "cell_type": "markdown",
   "metadata": {},
   "source": [
    "Create a new variable, `total_number_of_days_of_weather_data`, with a value of `87578`."
   ]
  },
  {
   "cell_type": "code",
   "execution_count": null,
   "metadata": {
    "collapsed": true
   },
   "outputs": [],
   "source": [
    "# Enter your code below:\n"
   ]
  },
  {
   "cell_type": "markdown",
   "metadata": {},
   "source": [
    "The high temperature for today is 85 and the low is 69. Create a new variable, `todays_range`, which is the result of `todays_low` subtracted from `todays_high`. Print the result of `todays_range`."
   ]
  },
  {
   "cell_type": "code",
   "execution_count": null,
   "metadata": {
    "collapsed": true
   },
   "outputs": [],
   "source": [
    "todays_high = 85\n",
    "todays_low = 69\n",
    "\n",
    "# Enter your code below:\n"
   ]
  },
  {
   "cell_type": "markdown",
   "metadata": {},
   "source": [
    "When we calculate the chance of precipitation, we'll get the result in decimal form. We want to display this as a percentage to the user. \n",
    "\n",
    "- Convert `chance_of_precipitation` from a decimal to a percentage by multiplying it by 100.\n",
    "  - Print the result."
   ]
  },
  {
   "cell_type": "code",
   "execution_count": null,
   "metadata": {
    "collapsed": true
   },
   "outputs": [],
   "source": [
    "chance_of_precipitation = 0.15\n",
    "\n",
    "# Enter your code below:\n"
   ]
  },
  {
   "cell_type": "markdown",
   "metadata": {},
   "source": [
    "Set `avg_daily_high` as equal to the average high for the week using the variables below, then print the result."
   ]
  },
  {
   "cell_type": "code",
   "execution_count": null,
   "metadata": {
    "collapsed": true
   },
   "outputs": [],
   "source": [
    "mondays_high = 89\n",
    "tuesdays_high = 87\n",
    "wednesdays_high = 88\n",
    "thursdays_high = 92\n",
    "fridays_high = 94\n",
    "\n",
    "# Enter your code below:\n"
   ]
  },
  {
   "cell_type": "markdown",
   "metadata": {},
   "source": [
    "<hr>"
   ]
  },
  {
   "cell_type": "markdown",
   "metadata": {},
   "source": [
    "### Mixed Practice\n",
    "\n",
    "- Use [Python f-strings](https://docs.python.org/3/reference/lexical_analysis.html#f-strings) to print the following line using variables shown inside the < > brackets: \n",
    "\n",
    "> The `project_title` processes `total_number_of_days_of_weather_data` days of data to produce its forecasts."
   ]
  },
  {
   "cell_type": "code",
   "execution_count": null,
   "metadata": {
    "collapsed": true
   },
   "outputs": [],
   "source": [
    "# Enter your code below:\n"
   ]
  },
  {
   "cell_type": "markdown",
   "metadata": {},
   "source": [
    "- Print the following output in a single line of code using the following four variables:\n",
    "\n",
    "  - `message_to_user`\n",
    "  - `todays_high`\n",
    "  - `todays_low`\n",
    "  - `chance_of_precipitation` \n",
    "\n",
    "> Your weather forecast for today is: High of 85, low of 69, with a 15% chance of precipitation."
   ]
  },
  {
   "cell_type": "code",
   "execution_count": null,
   "metadata": {
    "collapsed": true
   },
   "outputs": [],
   "source": [
    "# Enter your code below:\n"
   ]
  },
  {
   "cell_type": "markdown",
   "metadata": {},
   "source": [
    "<hr>"
   ]
  },
  {
   "cell_type": "markdown",
   "metadata": {},
   "source": [
    "### Well done!"
   ]
  }
 ],
 "metadata": {
  "kernelspec": {
   "display_name": "Python 2",
   "language": "python",
   "name": "python2"
  },
  "language_info": {
   "codemirror_mode": {
    "name": "ipython",
    "version": 2
   },
   "file_extension": ".py",
   "mimetype": "text/x-python",
   "name": "python",
   "nbconvert_exporter": "python",
   "pygments_lexer": "ipython2",
   "version": "2.7.13"
  }
 },
 "nbformat": 4,
 "nbformat_minor": 2
}
