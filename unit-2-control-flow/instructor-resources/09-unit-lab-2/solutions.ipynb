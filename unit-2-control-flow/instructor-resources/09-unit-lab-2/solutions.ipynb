{
 "cells": [
  {
   "cell_type": "markdown",
   "metadata": {},
   "source": [
    "### ![](https://ga-dash.s3.amazonaws.com/production/assets/logo-9f88ae6c9c3871690e33280fcf557f33.png)\n",
    "\n",
    "# Unit 2 Lab: Control Flow\n",
    "\n",
    "## Overview\n",
    "Welcome to the second unit lab!\n",
    "\n",
    "### Objectives:\n",
    "\n",
    "- Create a function to validate user input so we can use responses later in our weather analysis.\n",
    "- Create a function that generates dummy weather data for testing purposes."
   ]
  },
  {
   "cell_type": "markdown",
   "metadata": {},
   "source": [
    "<hr>"
   ]
  },
  {
   "cell_type": "markdown",
   "metadata": {},
   "source": [
    "### User Input Validation"
   ]
  },
  {
   "cell_type": "markdown",
   "metadata": {},
   "source": [
    "One of the most common ways we use conditionals in real-life programming projects is to validate user-entered information. Let's apply what we've learned to create a user validation function. \n",
    "\n",
    "- Define a function, `user_input_validation()`.\n",
    "- Create two variables:\n",
    "  - `valid_month`\n",
    "  - `valid_day` \n",
    "- Set both variables to `False`.\n",
    "- Have `user_input_validation()` return the value `True`."
   ]
  },
  {
   "cell_type": "code",
   "execution_count": 1,
   "metadata": {
    "collapsed": true
   },
   "outputs": [],
   "source": [
    "# Enter your code below:\n",
    "def user_input_validation():\n",
    "    valid_month = False\n",
    "    valid_day = False\n",
    "    \n",
    "    return True"
   ]
  },
  {
   "cell_type": "code",
   "execution_count": 2,
   "metadata": {
    "collapsed": false
   },
   "outputs": [
    {
     "name": "stdout",
     "output_type": "stream",
     "text": [
      "OK!\n"
     ]
    }
   ],
   "source": [
    "# Run this cell to verify that the function works.\n",
    "print(\"OK!\") if user_input_validation() else print(\"Not quite!\")"
   ]
  },
  {
   "cell_type": "markdown",
   "metadata": {},
   "source": [
    "Next, add two arguments to the `user_input_validation()` function:\n",
    "  - `user_input_month`\n",
    "  - `user_input_day`\n",
    "\n",
    "Write a series of conditional statements that meet the following requirements:\n",
    "\n",
    "1. If the value for `user_input_month` is less than 1 or greater than 12, set `valid_month` to `False` and print out `\"Invalid month. Please enter a number between 1-12.\"` Otherwise, set `valid_month` to `True`.\n",
    "\n",
    "2. If the value of `user_input_day` is less than 1 or greater than 31, set `valid_day` to `False` and print out `\"Invalid day. Please enter a number between 1-31.\"` Otherwise, set `valid_day` to `True`.\n",
    "\n",
    "3. Add a final `if` statement that returns `True` if — and only if — the values of `user_input_month` and `user_input_day` are `True`. Otherwise, return `False`.\n",
    "\n",
    "\n",
    "*Note: It may seem redundant to be setting `valid_month` and `valid_day` to `False` if they aren't valid when we already set them to `False` when we declared them as variables. However, later we'll be looping through these `if...else` statements multiple times, which is why this step is necessary.*"
   ]
  },
  {
   "cell_type": "code",
   "execution_count": 3,
   "metadata": {
    "collapsed": true
   },
   "outputs": [],
   "source": [
    "# Edit the function below:\n",
    "def user_input_validation(user_input_month, user_input_day):\n",
    "    valid_month = False\n",
    "    valid_day = False\n",
    "    \n",
    "    if user_input_month < 1 or user_input_month > 12:\n",
    "        valid_month = False\n",
    "        print(\"Invalid month. Please enter a number between 1-12.\")\n",
    "    else:\n",
    "        valid_month = True\n",
    "        \n",
    "    if user_input_day < 1 or user_input_day > 31:\n",
    "        valid_day = False\n",
    "        print(\"Invalid day. Please enter a number between 1-31.\")\n",
    "    else:\n",
    "        valid_day = True\n",
    "    \n",
    "    if valid_month and valid_day:\n",
    "        return True\n",
    "    \n",
    "    return False"
   ]
  },
  {
   "cell_type": "code",
   "execution_count": 4,
   "metadata": {
    "collapsed": false
   },
   "outputs": [
    {
     "name": "stdout",
     "output_type": "stream",
     "text": [
      "Invalid month. Please enter a number between 1-12.\n"
     ]
    },
    {
     "data": {
      "text/plain": [
       "False"
      ]
     },
     "execution_count": 4,
     "metadata": {},
     "output_type": "execute_result"
    }
   ],
   "source": [
    "# Run the following function with inputs of 13/25, 11/25, -1/5, 5/-1, and 7/19 to test your function.\n",
    "# The function should return False for 13/25, -1/5, 5/-1 and True for 11/25 and 7/19.\n",
    "user_input_validation(13,25)"
   ]
  },
  {
   "cell_type": "markdown",
   "metadata": {},
   "source": [
    "We also need to protect against the user entering dates that don't exist, such as February 31.\n",
    "\n",
    "1. Create a third variable, `valid_date`, within the `user_input_validation()` function.\n",
    "\n",
    "2. Create an `if` statement to check if the value of the `month` is 2, 4, 6, 9, or 11 _and_ the `day` entered is greater than 30.\n",
    "3. Add an `or` condition to this `if` statement that also checks if the `month` is February while the `day` entered is greater than 28. \n",
    "  - If the date received falls within these criteria:\n",
    "    - Set `valid_date` to `False`.\n",
    "    - Print `\"Invalid date. Please enter a valid date.\"` Otherwise, set `valid_date` to `True`.\n",
    "    \n",
    "3. Create a final `if` statement that checks that all three of the following variables are `True`:\n",
    "  - `valid_month`\n",
    "  - `valid_day`\n",
    "  - `valid_date`\n",
    "    - If they are, return `True`. Otherwise, return `False`.\n",
    "\n",
    "*Note: To create this `if` statement properly, you'll need to use the `in` keyword on the list of months. This concept was not taught in class. You use `in` to check if an item is in a list, like so: \n",
    "    \n",
    "```python\n",
    "# This prints '5 is in list!'\n",
    "if(5 in [1,3,4,5,9]):\n",
    "    print(\"5 is in list!\")\n",
    "\n",
    "# This does not print '7 is in list!'\n",
    "if(7 in [1,3,4,5,9]):\n",
    "    print(\"7 is in list!\")\n",
    "```"
   ]
  },
  {
   "cell_type": "code",
   "execution_count": 5,
   "metadata": {
    "collapsed": true
   },
   "outputs": [],
   "source": [
    "# Edit the function below:\n",
    "def user_input_validation(user_input_month, user_input_day):\n",
    "    valid_month = False\n",
    "    valid_day = False\n",
    "    valid_date = False\n",
    "    \n",
    "    if user_input_month < 1 or user_input_month > 12:\n",
    "        valid_month = False\n",
    "        print(\"Invalid month. Please enter a number between 1-12.\")\n",
    "    else:\n",
    "        valid_month = True\n",
    "    \n",
    "    if  user_input_day < 1 or user_input_day > 31:\n",
    "        valid_day = False\n",
    "        print(\"Invalid day. Please enter a number between 1-31.\")\n",
    "    else:\n",
    "        valid_day = True\n",
    "    \n",
    "    if (user_input_month in [2,4,6,9,11] and user_input_day > 30) or (user_input_month == 2 and user_input_day > 28):\n",
    "        valid_date = False\n",
    "        print(\"Invalid date. Please enter a valid date.\")\n",
    "    else:\n",
    "        valid_date = True\n",
    "        \n",
    "    if valid_month and valid_day and valid_date:\n",
    "        return True\n",
    "    \n",
    "    return False"
   ]
  },
  {
   "cell_type": "code",
   "execution_count": 6,
   "metadata": {
    "collapsed": false
   },
   "outputs": [
    {
     "name": "stdout",
     "output_type": "stream",
     "text": [
      "Invalid date. Please enter a valid date.\n"
     ]
    },
    {
     "data": {
      "text/plain": [
       "False"
      ]
     },
     "execution_count": 6,
     "metadata": {},
     "output_type": "execute_result"
    }
   ],
   "source": [
    "# Run the following function with inputs of 9/31, 11/31, 2/29, 2/30, 2/31, 11/25, and 7/19 to test your function.\n",
    "# The function should return False for the first five dates and True for 11/25 and 7/19.\n",
    "user_input_validation(9,31)"
   ]
  },
  {
   "cell_type": "markdown",
   "metadata": {},
   "source": [
    "<hr>"
   ]
  },
  {
   "cell_type": "markdown",
   "metadata": {},
   "source": [
    "### Weather Data\n",
    "\n",
    "The `recent_temperatures` list holds the hourly recorded temperatures for each hour of day. Print out the high and low temperatures for the day."
   ]
  },
  {
   "cell_type": "code",
   "execution_count": 7,
   "metadata": {
    "collapsed": false
   },
   "outputs": [
    {
     "name": "stdout",
     "output_type": "stream",
     "text": [
      "82\n",
      "65\n"
     ]
    }
   ],
   "source": [
    "recent_temperatures = [67,67,68,69,71,73,75,76,79,81,81,80,82,81,81,80,78,75,72,70,67,65,66,66]\n",
    "\n",
    "# Enter your code below:\n",
    "print(max(recent_temperatures))\n",
    "print(min(recent_temperatures))"
   ]
  },
  {
   "cell_type": "markdown",
   "metadata": {},
   "source": [
    "Create a function, `avg_temp()`, that reads in `recent_temperatures`, calculates the average temperature, and prints the result."
   ]
  },
  {
   "cell_type": "code",
   "execution_count": 8,
   "metadata": {
    "collapsed": false
   },
   "outputs": [
    {
     "name": "stdout",
     "output_type": "stream",
     "text": [
      "73.75\n"
     ]
    }
   ],
   "source": [
    "# Enter your code below:\n",
    "def avg_temp(list_of_temps):\n",
    "    sum = 0\n",
    "    for temp in list_of_temps:\n",
    "        sum += temp\n",
    "    \n",
    "    avg = sum / len(list_of_temps)\n",
    "    print(avg)\n",
    "\n",
    "avg_temp(recent_temperatures)"
   ]
  },
  {
   "cell_type": "markdown",
   "metadata": {},
   "source": [
    "Oftentimes, when working with large sets of data, you'll encounter a list of lists or a list of tuples. In our case, we'll be working with data where each item in a list contains a time and the corresponding temperature that was recorded at that time.\n",
    "\n",
    "Let's create a list of tuples, `weather_data`, where the first digit represents the hour (0–23) and the second value is the temperature from the `recent_temperatures` list. (Example of list format: [(0,67),(2,67),(3,69),etc.])\n",
    "\n",
    "Then, print out the list to verify."
   ]
  },
  {
   "cell_type": "code",
   "execution_count": 9,
   "metadata": {
    "collapsed": false
   },
   "outputs": [
    {
     "name": "stdout",
     "output_type": "stream",
     "text": [
      "[(0, 67), (1, 67), (2, 68), (3, 69), (4, 71), (5, 73), (6, 75), (7, 76), (8, 79), (9, 81), (10, 81), (11, 80), (12, 82), (13, 81), (14, 81), (15, 80), (16, 78), (17, 75), (18, 72), (19, 70), (20, 67), (21, 65), (22, 66), (23, 66)]\n"
     ]
    }
   ],
   "source": [
    "# Enter your code below:\n",
    "weather_data = []\n",
    "\n",
    "for i in range(len(recent_temperatures)):\n",
    "    hourly_data_point = (i,recent_temperatures[i])\n",
    "    weather_data.append(hourly_data_point)\n",
    "\n",
    "print(weather_data)"
   ]
  }
 ],
 "metadata": {
  "kernelspec": {
   "display_name": "Python 2",
   "language": "python",
   "name": "python2"
  },
  "language_info": {
   "codemirror_mode": {
    "name": "ipython",
    "version": 2
   },
   "file_extension": ".py",
   "mimetype": "text/x-python",
   "name": "python",
   "nbconvert_exporter": "python",
   "pygments_lexer": "ipython2",
   "version": "2.7.13"
  }
 },
 "nbformat": 4,
 "nbformat_minor": 2
}
