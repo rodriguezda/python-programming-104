{
 "cells": [
  {
   "cell_type": "markdown",
   "metadata": {},
   "source": [
    "# Decorators\n",
    "\n",
    "A decorator is a function that extends the capabilities of an existing function without modifying it. This allows better code-reuse and modularity."
   ]
  },
  {
   "cell_type": "markdown",
   "metadata": {},
   "source": [
    "## Returning Functions\n",
    "\n",
    "We can return functions from functions in python"
   ]
  },
  {
   "cell_type": "code",
   "execution_count": 1,
   "metadata": {},
   "outputs": [],
   "source": []
  },
  {
   "cell_type": "markdown",
   "metadata": {},
   "source": [
    "## You Do\n",
    "\n",
    "- Write two functions. \n",
    "  - Each function takes two arguments, `account_name` and `account_balance`.\n",
    "  - The first function is `account_full` and prints `Your account <account name> has a balance of <account_balance>`\n",
    "  - The second function is `account_empty` and prints `Sorry, you have <account_balance> in your <account_name>.`\n",
    "    - The second function should set the value of `account_balance` to `0`.\n",
    "\n",
    "\n",
    "- Wrap the two functions with another function `get_balance`, and demonstrate a call to `account_full` and `account_empty`"
   ]
  },
  {
   "cell_type": "code",
   "execution_count": null,
   "metadata": {},
   "outputs": [],
   "source": []
  },
  {
   "cell_type": "markdown",
   "metadata": {},
   "source": [
    "## Inner Function Scope\n",
    "\n",
    "Functions defined within other functions have _local scope_ to that function"
   ]
  },
  {
   "cell_type": "code",
   "execution_count": null,
   "metadata": {},
   "outputs": [],
   "source": []
  },
  {
   "cell_type": "markdown",
   "metadata": {},
   "source": [
    "We cannot call a private function from outside its parent function"
   ]
  },
  {
   "cell_type": "code",
   "execution_count": null,
   "metadata": {},
   "outputs": [],
   "source": []
  },
  {
   "cell_type": "markdown",
   "metadata": {},
   "source": [
    "## Returning Functions\n",
    "\n",
    "We can return different functions depending on input arguments. If we input `x` is `True`, we will get `inner_1` function returned, else `inner_2`"
   ]
  },
  {
   "cell_type": "code",
   "execution_count": null,
   "metadata": {},
   "outputs": [],
   "source": []
  },
  {
   "cell_type": "markdown",
   "metadata": {},
   "source": [
    "## Wrappers\n",
    "\n",
    "Let's verbosely write out what a decorator does by using a function named `deco`"
   ]
  },
  {
   "cell_type": "code",
   "execution_count": null,
   "metadata": {},
   "outputs": [],
   "source": []
  },
  {
   "cell_type": "markdown",
   "metadata": {},
   "source": [
    "## Convert a Wrapper to a Decorator"
   ]
  },
  {
   "cell_type": "code",
   "execution_count": null,
   "metadata": {},
   "outputs": [],
   "source": []
  },
  {
   "cell_type": "markdown",
   "metadata": {},
   "source": [
    "We can re-use this decorator to modify the behavior of other functions as well"
   ]
  },
  {
   "cell_type": "code",
   "execution_count": null,
   "metadata": {},
   "outputs": [],
   "source": []
  },
  {
   "cell_type": "markdown",
   "metadata": {},
   "source": [
    "## Passing Arguments to Decorators"
   ]
  },
  {
   "cell_type": "code",
   "execution_count": null,
   "metadata": {},
   "outputs": [],
   "source": []
  },
  {
   "cell_type": "markdown",
   "metadata": {},
   "source": [
    "We are unable to pass arguments to our decorator because we haven't specified input arguments within our `deco` function."
   ]
  },
  {
   "cell_type": "code",
   "execution_count": null,
   "metadata": {},
   "outputs": [],
   "source": []
  },
  {
   "cell_type": "markdown",
   "metadata": {},
   "source": [
    "Can we use our same `@deco_with_args` for our previous function, `count_to_five` which takes no arguments?"
   ]
  },
  {
   "cell_type": "code",
   "execution_count": null,
   "metadata": {},
   "outputs": [],
   "source": []
  },
  {
   "cell_type": "markdown",
   "metadata": {},
   "source": [
    "Yes we can!\n",
    "\n",
    "It is good practice to use `*args` and `**kwargs` when writing decorators that may be extended to other funcitons."
   ]
  },
  {
   "cell_type": "markdown",
   "metadata": {},
   "source": [
    "## You Do\n",
    "\n",
    "- Create a decorator, `@timeit` that measures the time necessary for any function to execute and prints the time in seconds\n",
    "- Create a loop that loads the processor and demonstrate the functionality of your `@timeit` decorator\n",
    "\n",
    "_Hint: Use the `datetime.now` function within the `datetime` library to get access to timing functions_\n",
    "\n",
    "#### Going further\n",
    "\n",
    "- Have your looping function accept an argument that modulates the time the function will take to complete\n",
    "- Have your decorator print the name of the function that it is timing\n",
    "- Round the number of seconds to 4 decimal places"
   ]
  },
  {
   "cell_type": "code",
   "execution_count": null,
   "metadata": {},
   "outputs": [],
   "source": []
  }
 ],
 "metadata": {
  "kernelspec": {
   "display_name": "Python 3",
   "language": "python",
   "name": "python3"
  },
  "language_info": {
   "codemirror_mode": {
    "name": "ipython",
    "version": 3
   },
   "file_extension": ".py",
   "mimetype": "text/x-python",
   "name": "python",
   "nbconvert_exporter": "python",
   "pygments_lexer": "ipython3",
   "version": "3.7.2"
  }
 },
 "nbformat": 4,
 "nbformat_minor": 2
}
