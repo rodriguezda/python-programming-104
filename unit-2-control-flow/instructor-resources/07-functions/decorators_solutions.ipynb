{
 "cells": [
  {
   "cell_type": "markdown",
   "metadata": {},
   "source": [
    "# Decorators\n",
    "\n",
    "A decorator is a function that extends the capabilities of an existing function without modifying it. This allows better code-reuse and modularity."
   ]
  },
  {
   "cell_type": "markdown",
   "metadata": {},
   "source": [
    "## Returning Functions\n",
    "\n",
    "We can return functions from functions in python"
   ]
  },
  {
   "cell_type": "code",
   "execution_count": 1,
   "metadata": {},
   "outputs": [],
   "source": [
    "def bad(name):\n",
    "    print(f'Bad {name}, no biscuit!')\n",
    "    \n",
    "def good(name):\n",
    "    print(f'Good {name}, have a treat!')\n",
    "    \n",
    "def command_greg(func):\n",
    "    return func('greg')"
   ]
  },
  {
   "cell_type": "code",
   "execution_count": 14,
   "metadata": {},
   "outputs": [
    {
     "name": "stdout",
     "output_type": "stream",
     "text": [
      "Bad greg, no biscuit!\n"
     ]
    }
   ],
   "source": [
    "command_greg(bad)"
   ]
  },
  {
   "cell_type": "code",
   "execution_count": 51,
   "metadata": {},
   "outputs": [
    {
     "name": "stdout",
     "output_type": "stream",
     "text": [
      "Good greg, have a treat!\n"
     ]
    }
   ],
   "source": [
    "command_greg(good)"
   ]
  },
  {
   "cell_type": "markdown",
   "metadata": {},
   "source": [
    "## You Do\n",
    "\n",
    "- Write two functions. \n",
    "  - Each function takes two arguments, `account_name` and `account_balance`.\n",
    "  - The first function is `account_full` and prints `Your account <account name> has a balance of <account_balance>`\n",
    "  - The second function is `account_empty` and prints `Sorry, you have <account_balance> in your <account_name>.`\n",
    "    - The second function should set the value of `account_balance` to `0`.\n",
    "\n",
    "\n",
    "- Wrap the two functions with another function `get_balance`, and demonstrate a call to `account_full` and `account_empty`"
   ]
  },
  {
   "cell_type": "code",
   "execution_count": 67,
   "metadata": {},
   "outputs": [],
   "source": [
    "def account_full(account_name, account_balance):\n",
    "    print(f'Your account {account_name} has a '\n",
    "          f'balanace of {account_balance}.')\n",
    "    \n",
    "def account_empty(account_name, account_balance):\n",
    "    account_balance = 0\n",
    "    print(f'Sorry, you have {account_balance} in '\n",
    "         f'your {account_name} account.')\n",
    "    \n",
    "def get_balance(func):\n",
    "    return func('ABC123', '$12')"
   ]
  },
  {
   "cell_type": "code",
   "execution_count": 71,
   "metadata": {},
   "outputs": [
    {
     "name": "stdout",
     "output_type": "stream",
     "text": [
      "Sorry, you have 0 in your ABC123 account.\n"
     ]
    }
   ],
   "source": [
    "get_balance(account_empty)"
   ]
  },
  {
   "cell_type": "code",
   "execution_count": 72,
   "metadata": {},
   "outputs": [
    {
     "name": "stdout",
     "output_type": "stream",
     "text": [
      "Your account ABC123 has a balanace of $12.\n"
     ]
    }
   ],
   "source": [
    "get_balance(account_full)"
   ]
  },
  {
   "cell_type": "markdown",
   "metadata": {},
   "source": [
    "## Inner Function Scope\n",
    "\n",
    "Functions defined within other functions have _local scope_ to that function"
   ]
  },
  {
   "cell_type": "code",
   "execution_count": 15,
   "metadata": {},
   "outputs": [],
   "source": [
    "def outer():\n",
    "    def inner_1():\n",
    "        print('Inner 1')\n",
    "    def inner_2():\n",
    "        print('Inner 2')\n",
    "        \n",
    "    inner_1()\n",
    "    inner_2()"
   ]
  },
  {
   "cell_type": "code",
   "execution_count": 16,
   "metadata": {},
   "outputs": [
    {
     "name": "stdout",
     "output_type": "stream",
     "text": [
      "Inner 1\n",
      "Inner 2\n"
     ]
    }
   ],
   "source": [
    "outer()"
   ]
  },
  {
   "cell_type": "markdown",
   "metadata": {},
   "source": [
    "We cannot call a private function from outside its parent function"
   ]
  },
  {
   "cell_type": "code",
   "execution_count": 17,
   "metadata": {},
   "outputs": [
    {
     "ename": "NameError",
     "evalue": "name 'inner_1' is not defined",
     "output_type": "error",
     "traceback": [
      "\u001b[0;31m---------------------------------------------------------------------------\u001b[0m",
      "\u001b[0;31mNameError\u001b[0m                                 Traceback (most recent call last)",
      "\u001b[0;32m<ipython-input-17-1add2b3435b4>\u001b[0m in \u001b[0;36m<module>\u001b[0;34m\u001b[0m\n\u001b[0;32m----> 1\u001b[0;31m \u001b[0minner_1\u001b[0m\u001b[0;34m(\u001b[0m\u001b[0;34m)\u001b[0m\u001b[0;34m\u001b[0m\u001b[0;34m\u001b[0m\u001b[0m\n\u001b[0m",
      "\u001b[0;31mNameError\u001b[0m: name 'inner_1' is not defined"
     ]
    }
   ],
   "source": [
    "inner_1()"
   ]
  },
  {
   "cell_type": "markdown",
   "metadata": {},
   "source": [
    "## Returning Functions\n",
    "\n",
    "We can return different functions depending on input arguments. If we input `x` is `True`, we will get `inner_1` function returned, else `inner_2`"
   ]
  },
  {
   "cell_type": "code",
   "execution_count": 18,
   "metadata": {},
   "outputs": [],
   "source": [
    "def outer(x):\n",
    "    def inner_1():\n",
    "        print('Inner 1')\n",
    "    def inner_2():\n",
    "        print('Inner 2')\n",
    "        \n",
    "    if x:\n",
    "        return inner_1\n",
    "    else:\n",
    "        return inner_2"
   ]
  },
  {
   "cell_type": "code",
   "execution_count": 19,
   "metadata": {},
   "outputs": [
    {
     "data": {
      "text/plain": [
       "<function __main__.outer.<locals>.inner_1()>"
      ]
     },
     "execution_count": 19,
     "metadata": {},
     "output_type": "execute_result"
    }
   ],
   "source": [
    "outer(True)"
   ]
  },
  {
   "cell_type": "code",
   "execution_count": 20,
   "metadata": {},
   "outputs": [
    {
     "data": {
      "text/plain": [
       "<function __main__.outer.<locals>.inner_2()>"
      ]
     },
     "execution_count": 20,
     "metadata": {},
     "output_type": "execute_result"
    }
   ],
   "source": [
    "outer(False)"
   ]
  },
  {
   "cell_type": "code",
   "execution_count": 21,
   "metadata": {},
   "outputs": [
    {
     "name": "stdout",
     "output_type": "stream",
     "text": [
      "Inner 1\n"
     ]
    }
   ],
   "source": [
    "i_1 = outer(True)\n",
    "i_1()"
   ]
  },
  {
   "cell_type": "markdown",
   "metadata": {},
   "source": [
    "## Wrappers\n",
    "\n",
    "Let's verbosely write out what a decorator does by using a function named `deco`"
   ]
  },
  {
   "cell_type": "code",
   "execution_count": 27,
   "metadata": {},
   "outputs": [],
   "source": [
    "def deco(func):\n",
    "    def wrap():\n",
    "        print('before')\n",
    "        func()\n",
    "        print('after')\n",
    "    return wrap\n",
    "\n",
    "def during():\n",
    "    print('during')\n",
    "    \n",
    "wrapped_func = deco(during)"
   ]
  },
  {
   "cell_type": "code",
   "execution_count": 28,
   "metadata": {},
   "outputs": [
    {
     "name": "stdout",
     "output_type": "stream",
     "text": [
      "before\n",
      "during\n",
      "after\n"
     ]
    }
   ],
   "source": [
    "wrapped_func()"
   ]
  },
  {
   "cell_type": "markdown",
   "metadata": {},
   "source": [
    "## Convert a Wrapper to a Decorator"
   ]
  },
  {
   "cell_type": "code",
   "execution_count": 2,
   "metadata": {},
   "outputs": [],
   "source": [
    "def deco(func):\n",
    "    def wrapper():\n",
    "        print('before')\n",
    "        func()\n",
    "        print('after')\n",
    "    return wrapper\n",
    "\n",
    "@deco\n",
    "def during():\n",
    "    print('during')"
   ]
  },
  {
   "cell_type": "code",
   "execution_count": 3,
   "metadata": {},
   "outputs": [
    {
     "name": "stdout",
     "output_type": "stream",
     "text": [
      "before\n",
      "during\n",
      "after\n"
     ]
    }
   ],
   "source": [
    "during()"
   ]
  },
  {
   "cell_type": "markdown",
   "metadata": {},
   "source": [
    "We can re-use this decorator to modify the behavior of other functions as well"
   ]
  },
  {
   "cell_type": "code",
   "execution_count": 4,
   "metadata": {},
   "outputs": [],
   "source": [
    "@deco\n",
    "def count_to_five():\n",
    "    for i in range(5):\n",
    "        print(f'My number is {i+1}')"
   ]
  },
  {
   "cell_type": "code",
   "execution_count": 5,
   "metadata": {},
   "outputs": [
    {
     "name": "stdout",
     "output_type": "stream",
     "text": [
      "before\n",
      "My number is 1\n",
      "My number is 2\n",
      "My number is 3\n",
      "My number is 4\n",
      "My number is 5\n",
      "after\n"
     ]
    }
   ],
   "source": [
    "count_to_five()"
   ]
  },
  {
   "cell_type": "markdown",
   "metadata": {},
   "source": [
    "## Passing Arguments to Decorators"
   ]
  },
  {
   "cell_type": "code",
   "execution_count": 6,
   "metadata": {},
   "outputs": [],
   "source": [
    "@deco\n",
    "def count_to_x(x):\n",
    "    for i in range(x):\n",
    "        print(f'My number is {x+1}')"
   ]
  },
  {
   "cell_type": "markdown",
   "metadata": {},
   "source": [
    "We are unable to pass arguments to our decorator because we haven't specified input arguments within our `deco` function."
   ]
  },
  {
   "cell_type": "code",
   "execution_count": 7,
   "metadata": {},
   "outputs": [
    {
     "ename": "TypeError",
     "evalue": "wrapper() takes 0 positional arguments but 1 was given",
     "output_type": "error",
     "traceback": [
      "\u001b[0;31m---------------------------------------------------------------------------\u001b[0m",
      "\u001b[0;31mTypeError\u001b[0m                                 Traceback (most recent call last)",
      "\u001b[0;32m<ipython-input-7-5fc3c1f60a30>\u001b[0m in \u001b[0;36m<module>\u001b[0;34m\u001b[0m\n\u001b[0;32m----> 1\u001b[0;31m \u001b[0mcount_to_x\u001b[0m\u001b[0;34m(\u001b[0m\u001b[0;36m5\u001b[0m\u001b[0;34m)\u001b[0m\u001b[0;34m\u001b[0m\u001b[0;34m\u001b[0m\u001b[0m\n\u001b[0m",
      "\u001b[0;31mTypeError\u001b[0m: wrapper() takes 0 positional arguments but 1 was given"
     ]
    }
   ],
   "source": [
    "count_to_x(5)"
   ]
  },
  {
   "cell_type": "code",
   "execution_count": 48,
   "metadata": {},
   "outputs": [],
   "source": [
    "def deco_with_args(func):\n",
    "    def wrapper(*args):\n",
    "        print('before')\n",
    "        func(*args)\n",
    "        print('after')\n",
    "    return wrapper\n",
    "\n",
    "@deco_with_args\n",
    "def count_to_x(x):\n",
    "    for i in range(x):\n",
    "        print(f'My number is {i+1}')"
   ]
  },
  {
   "cell_type": "code",
   "execution_count": 49,
   "metadata": {},
   "outputs": [
    {
     "name": "stdout",
     "output_type": "stream",
     "text": [
      "before\n",
      "My number is 1\n",
      "My number is 2\n",
      "My number is 3\n",
      "My number is 4\n",
      "My number is 5\n",
      "after\n"
     ]
    }
   ],
   "source": [
    "count_to_x(5)"
   ]
  },
  {
   "cell_type": "markdown",
   "metadata": {},
   "source": [
    "Can we use our same `@deco_with_args` for our previous function, `count_to_five` which takes no arguments?"
   ]
  },
  {
   "cell_type": "code",
   "execution_count": 50,
   "metadata": {},
   "outputs": [
    {
     "name": "stdout",
     "output_type": "stream",
     "text": [
      "before\n",
      "My number is 1\n",
      "My number is 2\n",
      "My number is 3\n",
      "My number is 4\n",
      "My number is 5\n",
      "after\n"
     ]
    }
   ],
   "source": [
    "@deco_with_args\n",
    "def count_to_five():\n",
    "    for i in range(5):\n",
    "        print(f'My number is {i+1}')\n",
    "        \n",
    "count_to_five()"
   ]
  },
  {
   "cell_type": "markdown",
   "metadata": {},
   "source": [
    "Yes we can!\n",
    "\n",
    "It is good practice to use `*args` and `**kwargs` when writing decorators that may be extended to other funcitons."
   ]
  },
  {
   "cell_type": "markdown",
   "metadata": {},
   "source": [
    "## You Do\n",
    "\n",
    "- Create a decorator, `@timeit` that measures the time necessary for any function to execute and prints the time in seconds\n",
    "- Create a loop that loads the processor and demonstrate the functionality of your `@timeit` decorator\n",
    "\n",
    "_Hint: Use the `datetime.now` function within the `datetime` library to get access to timing functions_\n",
    "\n",
    "#### Going further\n",
    "\n",
    "- Have your looping function accept an argument that modulates the time the function will take to complete\n",
    "- Have your decorator print the name of the function that it is timing\n",
    "- Round the number of seconds to 4 decimal places"
   ]
  },
  {
   "cell_type": "code",
   "execution_count": 124,
   "metadata": {},
   "outputs": [],
   "source": [
    "def timeit(func, *args):\n",
    "    from datetime import datetime as dt\n",
    "    import functools\n",
    "    \n",
    "    @functools.wraps(func)\n",
    "    def wrapper(*args):\n",
    "        start = dt.now()\n",
    "        func(args)\n",
    "        stop = dt.now()\n",
    "        print(f'Your function {func.__name__} '\n",
    "              f'completed in '\n",
    "              f'{(stop - start).total_seconds():.4f}'\n",
    "              f' seconds.')\n",
    "    return wrapper\n",
    "\n",
    "@timeit\n",
    "def crunch_numbers(n):\n",
    "    res = 0\n",
    "    for i in range(n[0]):\n",
    "        res += i"
   ]
  },
  {
   "cell_type": "code",
   "execution_count": 125,
   "metadata": {},
   "outputs": [
    {
     "name": "stdout",
     "output_type": "stream",
     "text": [
      "Your function crunch_numbers completed in 0.0158 seconds.\n"
     ]
    }
   ],
   "source": [
    "crunch_numbers(100000)"
   ]
  }
 ],
 "metadata": {
  "kernelspec": {
   "display_name": "Python 3",
   "language": "python",
   "name": "python3"
  },
  "language_info": {
   "codemirror_mode": {
    "name": "ipython",
    "version": 3
   },
   "file_extension": ".py",
   "mimetype": "text/x-python",
   "name": "python",
   "nbconvert_exporter": "python",
   "pygments_lexer": "ipython3",
   "version": "3.7.2"
  }
 },
 "nbformat": 4,
 "nbformat_minor": 2
}
