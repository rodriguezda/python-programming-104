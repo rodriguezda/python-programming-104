{
 "cells": [
  {
   "cell_type": "markdown",
   "metadata": {},
   "source": [
    "### ![](https://ga-dash.s3.amazonaws.com/production/assets/logo-9f88ae6c9c3871690e33280fcf557f33.png)\n",
    "\n",
    "# Unit 4 Lab: Debugging\n",
    "\n",
    "## Overview\n",
    "Welcome to the Unit 4 lab!\n",
    "\n",
    "Imagine that your lab partner just asked you to review their code from Lab 3 to help them fix some bugs. Work through the following bugs to help them out.\n",
    "\n",
    "---"
   ]
  },
  {
   "cell_type": "markdown",
   "metadata": {},
   "source": [
    "## Instructions\n",
    "\n",
    "Fix the code in each of the sections below to get it running properly."
   ]
  },
  {
   "cell_type": "markdown",
   "metadata": {},
   "source": [
    "### Bug 1\n",
    "\n",
    "---\n"
   ]
  },
  {
   "cell_type": "code",
   "execution_count": 1,
   "metadata": {
    "collapsed": false
   },
   "outputs": [
    {
     "name": "stdout",
     "output_type": "stream",
     "text": [
      "{'hour': 0, 'temperature': 67, 'humidity': 60, 'rainfall': 0}\n",
      "{'hour': 1, 'temperature': 67, 'humidity': 65, 'rainfall': 0}\n",
      "{'hour': 2, 'temperature': 68, 'humidity': 65, 'rainfall': 0}\n",
      "{'hour': 3, 'temperature': 69, 'humidity': 70, 'rainfall': 0.1}\n",
      "{'hour': 4, 'temperature': 71, 'humidity': 70, 'rainfall': 0.1}\n",
      "{'hour': 5, 'temperature': 73, 'humidity': 70, 'rainfall': 0.05}\n",
      "{'hour': 6, 'temperature': 75, 'humidity': 70, 'rainfall': 0.1}\n",
      "{'hour': 7, 'temperature': 76, 'humidity': 75, 'rainfall': 0.15}\n",
      "{'hour': 8, 'temperature': 79, 'humidity': 75, 'rainfall': 0.2}\n",
      "{'hour': 9, 'temperature': 81, 'humidity': 75, 'rainfall': 0.3}\n",
      "{'hour': 10, 'temperature': 81, 'humidity': 75, 'rainfall': 0.3}\n",
      "{'hour': 11, 'temperature': 80, 'humidity': 80, 'rainfall': 0.5}\n",
      "{'hour': 12, 'temperature': 82, 'humidity': 80, 'rainfall': 0}\n",
      "{'hour': 13, 'temperature': 81, 'humidity': 85, 'rainfall': 0}\n",
      "{'hour': 14, 'temperature': 81, 'humidity': 85, 'rainfall': 0}\n",
      "{'hour': 15, 'temperature': 80, 'humidity': 85, 'rainfall': 0}\n",
      "{'hour': 16, 'temperature': 78, 'humidity': 85, 'rainfall': 0}\n",
      "{'hour': 17, 'temperature': 75, 'humidity': 80, 'rainfall': 0}\n",
      "{'hour': 18, 'temperature': 72, 'humidity': 80, 'rainfall': 0}\n",
      "{'hour': 19, 'temperature': 70, 'humidity': 80, 'rainfall': 0}\n",
      "{'hour': 20, 'temperature': 67, 'humidity': 80, 'rainfall': 0}\n",
      "{'hour': 21, 'temperature': 65, 'humidity': 80, 'rainfall': 0}\n",
      "{'hour': 22, 'temperature': 66, 'humidity': 80, 'rainfall': 0}\n",
      "{'hour': 23, 'temperature': 66, 'humidity': 80, 'rainfall': 0}\n"
     ]
    }
   ],
   "source": [
    "one_day_of_hourly_temperatures = [67,67,68,69,71,73,75,76,79,81,81,80,82,81,81,80,78,75,72,70,67,65,66,66]\n",
    "one_day_of_hourly_humidity = [60,65,65,70,70,70,70,75,75,75,75,80,80,85,85,85,85,80,80,80,80,80,80,80]\n",
    "one_day_of_hourly_rainfall = [0,0,0,0.1,0.1,0.05,0.1,0.15,0.2,0.3,0.3,0.5,0,0,0,0,0,0,0,0,0,0,0,0]\n",
    "\n",
    "# Fix the bug in the code below:\n",
    "weather_data = []\n",
    "for i in range(len(one_day_of_hourly_temperatures)):\n",
    "    current_hour = {\n",
    "        \"hour\": i,\n",
    "        \"temperature\": one_day_of_hourly_temperatures[i],\n",
    "        \"humidity\": one_day_of_hourly_humidity[i],\n",
    "        \"rainfall\": one_day_of_hourly_rainfall[i]\n",
    "    }\n",
    "    weather_data.append(current_hour)\n",
    "\n",
    "for hour in weather_data:\n",
    "    print(hour)"
   ]
  },
  {
   "cell_type": "markdown",
   "metadata": {},
   "source": [
    "### Bug 2"
   ]
  },
  {
   "cell_type": "code",
   "execution_count": 2,
   "metadata": {
    "collapsed": false
   },
   "outputs": [
    {
     "name": "stdout",
     "output_type": "stream",
     "text": [
      "{'hour': 0, 'temperature': 67, 'humidity': 60, 'rainfall': 0}\n",
      "{'hour': 1, 'temperature': 67, 'humidity': 65, 'rainfall': 0}\n",
      "{'hour': 2, 'temperature': 68, 'humidity': 65, 'rainfall': 0}\n",
      "{'hour': 3, 'temperature': 69, 'humidity': 70, 'rainfall': 0.1}\n",
      "{'hour': 4, 'temperature': 71, 'humidity': 70, 'rainfall': 0.1}\n",
      "{'hour': 5, 'temperature': 73, 'humidity': 70, 'rainfall': 0.05}\n",
      "{'hour': 6, 'temperature': 75, 'humidity': 70, 'rainfall': 0.1}\n",
      "{'hour': 7, 'temperature': 76, 'humidity': 75, 'rainfall': 0.15}\n",
      "{'hour': 8, 'temperature': 79, 'humidity': 75, 'rainfall': 0.2}\n",
      "{'hour': 9, 'temperature': 81, 'humidity': 75, 'rainfall': 0.3}\n",
      "{'hour': 10, 'temperature': 81, 'humidity': 75, 'rainfall': 0.3}\n",
      "{'hour': 11, 'temperature': 80, 'humidity': 80, 'rainfall': 0.5}\n",
      "{'hour': 12, 'temperature': 82, 'humidity': 80, 'rainfall': 0}\n",
      "{'hour': 13, 'temperature': 81, 'humidity': 85, 'rainfall': 0}\n",
      "{'hour': 14, 'temperature': 81, 'humidity': 85, 'rainfall': 0}\n",
      "{'hour': 15, 'temperature': 80, 'humidity': 85, 'rainfall': 0}\n",
      "{'hour': 16, 'temperature': 78, 'humidity': 85, 'rainfall': 0}\n",
      "{'hour': 17, 'temperature': 75, 'humidity': 80, 'rainfall': 0}\n",
      "{'hour': 18, 'temperature': 72, 'humidity': 80, 'rainfall': 0}\n",
      "{'hour': 19, 'temperature': 70, 'humidity': 80, 'rainfall': 0}\n",
      "{'hour': 20, 'temperature': 67, 'humidity': 80, 'rainfall': 0}\n",
      "{'hour': 21, 'temperature': 65, 'humidity': 80, 'rainfall': 0}\n",
      "{'hour': 22, 'temperature': 66, 'humidity': 80, 'rainfall': 0}\n",
      "{'hour': 23, 'temperature': 66, 'humidity': 80, 'rainfall': 0}\n"
     ]
    }
   ],
   "source": [
    "one_day_of_hourly_temperatures = [67,67,68,69,71,73,75,76,79,81,81,80,82,81,81,80,78,75,72,70,67,65,66,66]\n",
    "one_day_of_hourly_humidity = [60,65,65,70,70,70,70,75,75,75,75,80,80,85,85,85,85,80,80,80,80,80,80,80]\n",
    "one_day_of_hourly_rainfall = [0,0,0,0.1,0.1,0.05,0.1,0.15,0.2,0.3,0.3,0.5,0,0,0,0,0,0,0,0,0,0,0,0]\n",
    "\n",
    "# Fix the bug in the code below:\n",
    "weather_data = []\n",
    "for i in range(len(one_day_of_hourly_temperatures)):\n",
    "    current_hour = {\n",
    "        \"hour\": i,\n",
    "        \"temperature\": one_day_of_hourly_temperatures[i],\n",
    "        \"humidity\": one_day_of_hourly_humidity[i],\n",
    "        \"rainfall\": one_day_of_hourly_rainfall[i]\n",
    "    }\n",
    "    weather_data.append(current_hour)\n",
    "\n",
    "for hour in weather_data:\n",
    "    print(hour)"
   ]
  },
  {
   "cell_type": "markdown",
   "metadata": {},
   "source": [
    "### Bug 3\n",
    "---\n"
   ]
  },
  {
   "cell_type": "code",
   "execution_count": 3,
   "metadata": {
    "collapsed": true
   },
   "outputs": [],
   "source": [
    "# Fix the bug in the code below:\n",
    "class Forecast():\n",
    "    \n",
    "    def __init__(self, location):\n",
    "        self.location = location\n",
    "\n",
    "test = Forecast(\"Austin, TX\")"
   ]
  },
  {
   "cell_type": "markdown",
   "metadata": {},
   "source": [
    "### Bug 4\n",
    "---\n"
   ]
  },
  {
   "cell_type": "code",
   "execution_count": 4,
   "metadata": {
    "collapsed": false,
    "scrolled": true
   },
   "outputs": [
    {
     "name": "stdout",
     "output_type": "stream",
     "text": [
      "High: 82\n",
      "Low: 65\n",
      "Chance of Rain: 10.0 %\n"
     ]
    }
   ],
   "source": [
    "# Fix the bug in the code below:\n",
    "class Forecast():\n",
    "    \n",
    "    def __init__(self, location):\n",
    "        self.location = location\n",
    "    \n",
    "    def get_daily_high(self):\n",
    "        return max(one_day_of_hourly_temperatures)\n",
    "    \n",
    "    def get_daily_low(self):\n",
    "        return min(one_day_of_hourly_temperatures)\n",
    "    \n",
    "    def get_daily_chance_of_rain(self):\n",
    "        number_of_years_of_data = 10\n",
    "        times_it_has_rained = 0\n",
    "        \n",
    "        if sum(one_day_of_hourly_rainfall):\n",
    "            times_it_has_rained += 1\n",
    "            \n",
    "        return times_it_has_rained / number_of_years_of_data * 100\n",
    "\n",
    "\n",
    "test = Forecast(\"Austin,TX\")\n",
    "print(\"High:\", test.get_daily_high())\n",
    "print(\"Low:\", test.get_daily_low())\n",
    "print(\"Chance of Rain:\", test.get_daily_chance_of_rain(),'%')"
   ]
  },
  {
   "cell_type": "markdown",
   "metadata": {},
   "source": [
    "### Bug 5: The Daily Forecast Is Not Displaying Correctly\n",
    "---"
   ]
  },
  {
   "cell_type": "code",
   "execution_count": 5,
   "metadata": {
    "collapsed": false
   },
   "outputs": [
    {
     "name": "stdout",
     "output_type": "stream",
     "text": [
      "The weather forecast for today in Austin,TX is: High of 82, Low of 65, with a 10.0% chance of rain.\n"
     ]
    }
   ],
   "source": [
    "# Fix the bug in the code below:\n",
    "class Forecast():\n",
    "    \n",
    "    def __init__(self, location):\n",
    "        self.location = location\n",
    "    \n",
    "    def get_daily_high(self):\n",
    "        return max(one_day_of_hourly_temperatures)\n",
    "    \n",
    "    def get_daily_low(self):\n",
    "        return min(one_day_of_hourly_temperatures)\n",
    "    \n",
    "    def get_daily_chance_of_rain(self):\n",
    "        number_of_years_of_data = 10\n",
    "        times_it_has_rained = 0\n",
    "        \n",
    "        if sum(one_day_of_hourly_rainfall):\n",
    "            times_it_has_rained += 1\n",
    "            \n",
    "        return times_it_has_rained / number_of_years_of_data * 100\n",
    "    \n",
    "    def display_daily_forecast(self):\n",
    "        print(f\"The weather forecast for today in {self.location} is: \\\n",
    "High of {self.get_daily_high()}, Low of {self.get_daily_low()}, with a {self.get_daily_chance_of_rain()}% chance of rain.\")\n",
    "    \n",
    "\n",
    "test = Forecast(\"Austin,TX\")\n",
    "test.display_daily_forecast()"
   ]
  },
  {
   "cell_type": "markdown",
   "metadata": {},
   "source": [
    "### Bug 6: The Daily High Is Incorrect — Fix the Logic in the `get_daily_high()` Method\n",
    "---"
   ]
  },
  {
   "cell_type": "code",
   "execution_count": 6,
   "metadata": {
    "collapsed": false
   },
   "outputs": [
    {
     "name": "stdout",
     "output_type": "stream",
     "text": [
      "The weather forecast for today in Austin,TX is: High of 82, Low of 65, with a 10.0% chance of rain.\n"
     ]
    }
   ],
   "source": [
    "# Fix the bug in the code below:\n",
    "class Forecast():\n",
    "    \n",
    "    \n",
    "    def __init__(self, location):\n",
    "        self.location = location\n",
    "    \n",
    "    def get_daily_high(self):\n",
    "        daily_high = 0\n",
    "        for i in range(len(one_day_of_hourly_temperatures)):\n",
    "            if(one_day_of_hourly_temperatures[i] > daily_high):\n",
    "                daily_high = one_day_of_hourly_temperatures[i]\n",
    "        return daily_high\n",
    "    \n",
    "    def get_daily_low(self):\n",
    "        return min(one_day_of_hourly_temperatures)\n",
    "    \n",
    "    def get_daily_chance_of_rain(self):\n",
    "        number_of_years_of_data = 10\n",
    "        times_it_has_rained = 0\n",
    "        \n",
    "        if sum(one_day_of_hourly_rainfall):\n",
    "            times_it_has_rained += 1\n",
    "            \n",
    "        return times_it_has_rained / number_of_years_of_data * 100\n",
    "    \n",
    "    def display_daily_forecast(self):\n",
    "        print(f\"The weather forecast for today in {self.location} is: \\\n",
    "High of {self.get_daily_high()}, Low of {self.get_daily_low()}, with a {self.get_daily_chance_of_rain()}% chance of rain.\")\n",
    "    \n",
    "\n",
    "test = Forecast(\"Austin,TX\")\n",
    "test.display_daily_forecast()"
   ]
  }
 ],
 "metadata": {
  "kernelspec": {
   "display_name": "Python 2",
   "language": "python",
   "name": "python2"
  },
  "language_info": {
   "codemirror_mode": {
    "name": "ipython",
    "version": 2
   },
   "file_extension": ".py",
   "mimetype": "text/x-python",
   "name": "python",
   "nbconvert_exporter": "python",
   "pygments_lexer": "ipython2",
   "version": "2.7.13"
  }
 },
 "nbformat": 4,
 "nbformat_minor": 2
}
